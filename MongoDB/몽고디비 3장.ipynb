{
 "cells": [
  {
   "cell_type": "code",
   "execution_count": 2,
   "metadata": {},
   "outputs": [],
   "source": [
    "import pymongo\n",
    "connection = pymongo.MongoClient('localhost', 27017)\n",
    "db = connection.test"
   ]
  },
  {
   "cell_type": "code",
   "execution_count": 5,
   "metadata": {},
   "outputs": [],
   "source": [
    "connection = pymongo.MongoClient('localhost', 27017)"
   ]
  },
  {
   "cell_type": "code",
   "execution_count": 6,
   "metadata": {},
   "outputs": [],
   "source": [
    "db = connection.test"
   ]
  },
  {
   "cell_type": "code",
   "execution_count": 7,
   "metadata": {},
   "outputs": [
    {
     "data": {
      "text/plain": [
       "Database(MongoClient(host=['localhost:27017'], document_class=dict, tz_aware=False, connect=True), 'test')"
      ]
     },
     "execution_count": 7,
     "metadata": {},
     "output_type": "execute_result"
    }
   ],
   "source": [
    "db"
   ]
  },
  {
   "cell_type": "markdown",
   "metadata": {},
   "source": [
    "# 3.1 루비를 통해 보는 MongoDB"
   ]
  },
  {
   "cell_type": "markdown",
   "metadata": {},
   "source": [
    "모든 드라이버는 직관적이고 해당 프로그래밍 언어에 적합한 API로 설계되었으므로 많은 애플리케이션에서 MongoDB에 대한 유일한 인터페이스로 드라이버만 사용할 수도 있다. \n",
    "<br>\n",
    "루비에서는 Bson을 설치하는게 더 효율적인 핸들링을 제공해준다. "
   ]
  },
  {
   "cell_type": "code",
   "execution_count": 9,
   "metadata": {},
   "outputs": [],
   "source": [
    "# 모든 몽고디비 드라이버는 해당 프로그래밍 언어에서 가장 자연스러운 방법으로 도큐먼트를 표현하도록 설계되었다. \n",
    "# 루비에서는 : 대신에 =>을 사용한다. \n",
    "# 따라서 루비에서는 해시 데이터 구조가 기징 힙리적이다. \n",
    "smith = {'last_name' : 'smith', 'age' : 30}\n",
    "jones = {'last_name' : 'jones', 'age' : 40}"
   ]
  },
  {
   "cell_type": "code",
   "execution_count": 10,
   "metadata": {},
   "outputs": [
    {
     "name": "stderr",
     "output_type": "stream",
     "text": [
      "/Users/gunwook/opt/anaconda3/lib/python3.7/site-packages/ipykernel_launcher.py:1: DeprecationWarning: insert is deprecated. Use insert_one or insert_many instead.\n",
      "  \"\"\"Entry point for launching an IPython kernel.\n"
     ]
    },
    {
     "data": {
      "text/plain": [
       "ObjectId('5ec69dfb6775247830b23f86')"
      ]
     },
     "execution_count": 10,
     "metadata": {},
     "output_type": "execute_result"
    }
   ],
   "source": [
    "db.users.insert(smith)\n",
    "db.users.insert(jones)"
   ]
  },
  {
   "cell_type": "markdown",
   "metadata": {},
   "source": [
    "## 3.1.3 쿼리와 커서\n",
    "루비 드라이버에는 데이터에 접근하고 대부분의 상세한 사항들을 다루는 풍부한 인터페이스가 정의되었다. "
   ]
  },
  {
   "cell_type": "code",
   "execution_count": 26,
   "metadata": {},
   "outputs": [
    {
     "name": "stdout",
     "output_type": "stream",
     "text": [
      "{'_id': ObjectId('5ec69dfb6775247830b23f86'), 'last_name': 'smith', 'age': 30}\n",
      "{'_id': ObjectId('5ec69e026775247830b23f87'), 'last_name': 'jones', 'age': 40}\n"
     ]
    }
   ],
   "source": [
    "print(db.users.find_one({'last_name':'smith'}))\n",
    "# gt는 greater than의 약자다. \n",
    "print(db.users.find_one({'age': {'$gt' : 30}}))"
   ]
  },
  {
   "cell_type": "markdown",
   "metadata": {},
   "source": [
    "## 3.1.4 업데이트와 삭제\n",
    "업데이트는 최소한 두 개의 매개변수, 즉 쿼리 셀렉터와 엡데이트 도큐먼트가 필요하다. "
   ]
  },
  {
   "cell_type": "code",
   "execution_count": 31,
   "metadata": {},
   "outputs": [
    {
     "data": {
      "text/plain": [
       "<pymongo.results.UpdateResult at 0x106474b90>"
      ]
     },
     "execution_count": 31,
     "metadata": {},
     "output_type": "execute_result"
    }
   ],
   "source": [
    "# $set은 업데이트 시 사용한다. \n",
    "db.users.update_one({'last_name':'smith'}, {'$set':{'city':'Chicago'}})"
   ]
  },
  {
   "cell_type": "code",
   "execution_count": 35,
   "metadata": {},
   "outputs": [
    {
     "data": {
      "text/plain": [
       "{'_id': ObjectId('5ec69dfb6775247830b23f86'),\n",
       " 'last_name': 'smith',\n",
       " 'age': 30,\n",
       " 'city': 'Chicago'}"
      ]
     },
     "execution_count": 35,
     "metadata": {},
     "output_type": "execute_result"
    }
   ],
   "source": [
    "# 업데이트가 된 것을 확인할 수 있다. \n",
    "db.users.find_one()"
   ]
  },
  {
   "cell_type": "code",
   "execution_count": 34,
   "metadata": {},
   "outputs": [
    {
     "data": {
      "text/plain": [
       "<pymongo.results.UpdateResult at 0x10647fe10>"
      ]
     },
     "execution_count": 34,
     "metadata": {},
     "output_type": "execute_result"
    }
   ],
   "source": [
    "# 업데이트할 스미스가 여러명이면 update_many를 사용하자\n",
    "db.users.update_many({'last_name':'smith'}, {'$set':{'city':'Chicago'}})"
   ]
  },
  {
   "cell_type": "code",
   "execution_count": 36,
   "metadata": {},
   "outputs": [
    {
     "data": {
      "text/plain": [
       "<pymongo.results.DeleteResult at 0x1063110f0>"
      ]
     },
     "execution_count": 36,
     "metadata": {},
     "output_type": "execute_result"
    }
   ],
   "source": [
    "# 데이터 삭제는 remove 메서드를 사용하자.\n",
    "db.users.delete_one({'age': {'$gt' : 30}})"
   ]
  },
  {
   "cell_type": "code",
   "execution_count": 37,
   "metadata": {},
   "outputs": [
    {
     "data": {
      "text/plain": [
       "<pymongo.results.DeleteResult at 0x10646c7d0>"
      ]
     },
     "execution_count": 37,
     "metadata": {},
     "output_type": "execute_result"
    }
   ],
   "source": [
    "# 여러개를 없앨 때는 delete_many()\n",
    "db.users.delete_many({'age': {'$gt' : 30}})"
   ]
  },
  {
   "cell_type": "code",
   "execution_count": 38,
   "metadata": {},
   "outputs": [],
   "source": [
    "# 모든 내용을 삭제해준다.\n",
    "db.users.drop()"
   ]
  },
  {
   "cell_type": "markdown",
   "metadata": {},
   "source": [
    "## 3.1.5 데이터베이스 명령어\n",
    "listDatabases 명령을 통해 드라이버에서 어떻게 데이터베이스 명령어를 실행할 수 있는지 확인할 수 있다."
   ]
  },
  {
   "cell_type": "markdown",
   "metadata": {},
   "source": [
    "# 3.2 드라이버 작동 원리\n",
    "모든 몽고디비 드라이버는 세 가지 주요한 기능을 수행한다. \n",
    "1. 모든 도큐먼트의 _id 필드에 디폴트로 저장되는 값인 몽고디비 객체 ID를 생성한다. \n",
    "2. 드라이버는 특정 언어로 표현된 도큐먼트와 몽고디비의 이진 데이터 포맷인 BSON 사이의 변환을 수행한다. \n",
    "3. 드라이버는 몽고디비의 와이어 프로토콜을 사용해서 네트워크 소켓을 통해 데이터베이스와 통신한다. "
   ]
  },
  {
   "cell_type": "markdown",
   "metadata": {},
   "source": [
    "## 3.2.1 객체 ID 생성\n",
    "모든 몽고디비 도큐먼트는 프라이머리 키가 필요하다. 개발자가 _id 필드에 임의의 값을 넣는 것도 가능하지만, 주어지지 않을 경우 몽고디비의 객체 ID가 사용된다. 코어 서버에서 도큐먼트를 전송하기 전에 드라이버는 _id가 필요한지 확인 후 필드가 없으면 객체 ID를 생성하게 된다. \n",
    "<br>\n",
    "몽고디비의 객체 ID는 전역적으로 고유하도록 설계되어 있고, 이는 특정 맥락에서 고유하도록 보장함을 의미한다. 객체 ID는 12바이트의 16진수로 표현된다.\n",
    "- 4바이트: 유닉스의 타임스탬프\n",
    "- 3바이트: 서버의 id\n",
    "- 2바이트: 포로세스 id\n",
    "- 3바이트: 객체 id가 생성될 때마다 하나씩 증가하는 프로세스의 로컬 카운터. \n",
    "<br>\n",
    "몽고디비 객체 ID를 사용할 때 장점은 객체 ID가 타임스탬프를 포함하고 있다는 것이다. 따라서 도큐먼트의 생성시간을 알 수 있다. "
   ]
  }
 ],
 "metadata": {
  "kernelspec": {
   "display_name": "Python 3",
   "language": "python",
   "name": "python3"
  },
  "language_info": {
   "codemirror_mode": {
    "name": "ipython",
    "version": 3
   },
   "file_extension": ".py",
   "mimetype": "text/x-python",
   "name": "python",
   "nbconvert_exporter": "python",
   "pygments_lexer": "ipython3",
   "version": "3.7.4"
  }
 },
 "nbformat": 4,
 "nbformat_minor": 2
}
